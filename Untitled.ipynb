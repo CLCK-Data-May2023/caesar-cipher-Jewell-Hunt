{
 "cells": [
  {
   "cell_type": "code",
   "execution_count": null,
   "id": "a22a2d0a",
   "metadata": {},
   "outputs": [],
   "source": []
  },
  {
   "cell_type": "code",
   "execution_count": 1,
   "id": "3f39de1c",
   "metadata": {},
   "outputs": [
    {
     "name": "stdout",
     "output_type": "stream",
     "text": [
      "Enter the text to encrypt: HEllo caesar!\n"
     ]
    },
    {
     "ename": "NameError",
     "evalue": "name 'enrypted_text' is not defined",
     "output_type": "error",
     "traceback": [
      "\u001b[1;31m---------------------------------------------------------------------------\u001b[0m",
      "\u001b[1;31mNameError\u001b[0m                                 Traceback (most recent call last)",
      "Cell \u001b[1;32mIn[1], line 17\u001b[0m\n\u001b[0;32m     14\u001b[0m \u001b[38;5;66;03m# Get user input\u001b[39;00m\n\u001b[0;32m     15\u001b[0m original_text \u001b[38;5;241m=\u001b[39m \u001b[38;5;28minput\u001b[39m(\u001b[38;5;124m\"\u001b[39m\u001b[38;5;124mEnter the text to encrypt: \u001b[39m\u001b[38;5;124m\"\u001b[39m)\u001b[38;5;241m.\u001b[39mlower()\n\u001b[1;32m---> 17\u001b[0m encrypted_text \u001b[38;5;241m=\u001b[39m \u001b[43mcaesar_encrypt\u001b[49m\u001b[43m(\u001b[49m\u001b[43moriginal_text\u001b[49m\u001b[43m,\u001b[49m\u001b[43m \u001b[49m\u001b[43mshift\u001b[49m\u001b[43m)\u001b[49m\n\u001b[0;32m     18\u001b[0m \u001b[38;5;28mprint\u001b[39m(\u001b[38;5;124m\"\u001b[39m\u001b[38;5;124mThe encrypted sentence is:\u001b[39m\u001b[38;5;124m\"\u001b[39m, encrypted_text)\n",
      "Cell \u001b[1;32mIn[1], line 8\u001b[0m, in \u001b[0;36mcaesar_encrypt\u001b[1;34m(text, shift)\u001b[0m\n\u001b[0;32m      6\u001b[0m         encrypted_text \u001b[38;5;241m=\u001b[39m encrypted_text \u001b[38;5;241m+\u001b[39m \u001b[38;5;28mchr\u001b[39m(shifted)\n\u001b[0;32m      7\u001b[0m     \u001b[38;5;28;01melse\u001b[39;00m:\n\u001b[1;32m----> 8\u001b[0m         encrypted_text \u001b[38;5;241m=\u001b[39m \u001b[43menrypted_text\u001b[49m \u001b[38;5;241m+\u001b[39m char\n\u001b[0;32m      9\u001b[0m \u001b[38;5;28;01mreturn\u001b[39;00m encrypted_text\n",
      "\u001b[1;31mNameError\u001b[0m: name 'enrypted_text' is not defined"
     ]
    }
   ],
   "source": [
    "def caesar_encrypt(text, shift):\n",
    "    encrypted_text = \"\"\n",
    "    for char in text:\n",
    "        if char.isalpha():\n",
    "            shifted = (ord(char) - ord('a') + shift) % 26 + ord('a')\n",
    "            encrypted_text = encrypted_text + chr(shifted)\n",
    "        else:\n",
    "            encrypted_text = enrypted_text + char\n",
    "    return encrypted_text\n",
    "\n",
    "#predefined shift value\n",
    "shift = 5\n",
    "\n",
    "# Get user input\n",
    "original_text = input(\"Enter the text to encrypt: \").lower()\n",
    "\n",
    "encrypted_text = caesar_encrypt(original_text, shift)\n",
    "print(\"The encrypted sentence is:\", encrypted_text)\n"
   ]
  },
  {
   "cell_type": "code",
   "execution_count": 2,
   "id": "c016e786",
   "metadata": {},
   "outputs": [
    {
     "name": "stdout",
     "output_type": "stream",
     "text": [
      "Enter the text to encrypt: HEllo Caesar!\n",
      "The encrypted sentence is: mjqqt hfjxfw!\n"
     ]
    }
   ],
   "source": [
    "def caesar_encrypt(text, shift):\n",
    "    encrypted_text = \"\"\n",
    "    for char in text:\n",
    "        if char.isalpha():\n",
    "            shifted = (ord(char) - ord('a') + shift) % 26 + ord('a')\n",
    "            encrypted_text = encrypted_text + chr(shifted)\n",
    "        else:\n",
    "            encrypted_text = encrypted_text + char\n",
    "    return encrypted_text\n",
    "\n",
    "#predefined shift value\n",
    "shift = 5\n",
    "\n",
    "# Get user input\n",
    "original_text = input(\"Enter the text to encrypt: \").lower()\n",
    "\n",
    "encrypted_text = caesar_encrypt(original_text, shift)\n",
    "print(\"The encrypted sentence is:\", encrypted_text)"
   ]
  },
  {
   "cell_type": "code",
   "execution_count": null,
   "id": "a7f42d9f",
   "metadata": {},
   "outputs": [],
   "source": []
  },
  {
   "cell_type": "code",
   "execution_count": 3,
   "id": "723b1d23",
   "metadata": {},
   "outputs": [
    {
     "name": "stdout",
     "output_type": "stream",
     "text": [
      "Enter the text to encrypt: aaaa aa aa\n"
     ]
    },
    {
     "ename": "NameError",
     "evalue": "name 'enrypted_text' is not defined",
     "output_type": "error",
     "traceback": [
      "\u001b[1;31m---------------------------------------------------------------------------\u001b[0m",
      "\u001b[1;31mNameError\u001b[0m                                 Traceback (most recent call last)",
      "Cell \u001b[1;32mIn[3], line 17\u001b[0m\n\u001b[0;32m     14\u001b[0m \u001b[38;5;66;03m# Get user input\u001b[39;00m\n\u001b[0;32m     15\u001b[0m original_text \u001b[38;5;241m=\u001b[39m \u001b[38;5;28minput\u001b[39m(\u001b[38;5;124m\"\u001b[39m\u001b[38;5;124mEnter the text to encrypt: \u001b[39m\u001b[38;5;124m\"\u001b[39m)\u001b[38;5;241m.\u001b[39mlower()\n\u001b[1;32m---> 17\u001b[0m encrypted_text \u001b[38;5;241m=\u001b[39m \u001b[43mcaesar_encrypt\u001b[49m\u001b[43m(\u001b[49m\u001b[43moriginal_text\u001b[49m\u001b[43m,\u001b[49m\u001b[43m \u001b[49m\u001b[43mshift\u001b[49m\u001b[43m)\u001b[49m\n\u001b[0;32m     18\u001b[0m \u001b[38;5;28mprint\u001b[39m(\u001b[38;5;124m\"\u001b[39m\u001b[38;5;124mThe encrypted sentence is:\u001b[39m\u001b[38;5;124m\"\u001b[39m, encrypted_text)\n",
      "Cell \u001b[1;32mIn[3], line 8\u001b[0m, in \u001b[0;36mcaesar_encrypt\u001b[1;34m(text, shift)\u001b[0m\n\u001b[0;32m      6\u001b[0m         encrypted_text \u001b[38;5;241m=\u001b[39m encrypted_text \u001b[38;5;241m+\u001b[39m \u001b[38;5;28mchr\u001b[39m(shifted)\n\u001b[0;32m      7\u001b[0m     \u001b[38;5;28;01melse\u001b[39;00m:\n\u001b[1;32m----> 8\u001b[0m         encrypted_text \u001b[38;5;241m=\u001b[39m \u001b[43menrypted_text\u001b[49m \u001b[38;5;241m+\u001b[39m char\n\u001b[0;32m      9\u001b[0m \u001b[38;5;28;01mreturn\u001b[39;00m encrypted_text\n",
      "\u001b[1;31mNameError\u001b[0m: name 'enrypted_text' is not defined"
     ]
    }
   ],
   "source": [
    "def caesar_encrypt(text, shift):\n",
    "    encrypted_text = \"\"\n",
    "    for char in text:\n",
    "        if char.isalpha():\n",
    "            shifted = (ord(char) - ord('a') + shift) % 26 + ord('a')\n",
    "            encrypted_text = encrypted_text + chr(shifted)\n",
    "        else:\n",
    "            encrypted_text = enrypted_text + char\n",
    "    return encrypted_text\n",
    "\n",
    "#predefined shift value\n",
    "shift = 5\n",
    "\n",
    "# Get user input\n",
    "original_text = input(\"Enter the text to encrypt: \").lower()\n",
    "\n",
    "encrypted_text = caesar_encrypt(original_text, shift)\n",
    "print(\"The encrypted sentence is:\", encrypted_text)"
   ]
  },
  {
   "cell_type": "code",
   "execution_count": 4,
   "id": "740e0af8",
   "metadata": {},
   "outputs": [
    {
     "name": "stdout",
     "output_type": "stream",
     "text": [
      "Enter the text to encrypt: aaa aaaa\n",
      "The encrypted sentence is: fff ffff\n"
     ]
    }
   ],
   "source": [
    "def caesar_encrypt(text, shift):\n",
    "    encrypted_text = \"\"\n",
    "    for char in text:\n",
    "        if char.isalpha():\n",
    "            shifted = (ord(char) - ord('a') + shift) % 26 + ord('a')\n",
    "            encrypted_text = encrypted_text + chr(shifted)\n",
    "        else:\n",
    "            encrypted_text = encrypted_text + char\n",
    "    return encrypted_text\n",
    "\n",
    "#predefined shift value\n",
    "shift = 5\n",
    "\n",
    "# Get user input\n",
    "original_text = input(\"Enter the text to encrypt: \").lower()\n",
    "\n",
    "encrypted_text = caesar_encrypt(original_text, shift)\n",
    "print(\"The encrypted sentence is:\", encrypted_text)"
   ]
  },
  {
   "cell_type": "code",
   "execution_count": 5,
   "id": "861fbf7c",
   "metadata": {},
   "outputs": [
    {
     "name": "stdout",
     "output_type": "stream",
     "text": [
      "Enter the text to encrypt: Hajaks 23 ./ ajs\n",
      "The encrypted sentence is: mfofpx 23 ./ fox\n"
     ]
    }
   ],
   "source": [
    "def caesar_encrypt(text, shift):\n",
    "    encrypted_text = \"\"\n",
    "    for char in text:\n",
    "        if char.isalpha():\n",
    "            shifted = (ord(char) - ord('a') + shift) % 26 + ord('a')\n",
    "            encrypted_text = encrypted_text + chr(shifted)\n",
    "        else:\n",
    "            encrypted_text = encrypted_text + char\n",
    "    return encrypted_text\n",
    "\n",
    "#predefined shift value\n",
    "shift = 5\n",
    "\n",
    "# Get user input\n",
    "original_text = input(\"Enter the text to encrypt: \").lower()\n",
    "\n",
    "encrypted_text = caesar_encrypt(original_text, shift)\n",
    "print(\"The encrypted sentence is:\", encrypted_text)"
   ]
  },
  {
   "cell_type": "code",
   "execution_count": 6,
   "id": "97b9e63d",
   "metadata": {},
   "outputs": [
    {
     "data": {
      "text/plain": [
       "1"
      ]
     },
     "execution_count": 6,
     "metadata": {},
     "output_type": "execute_result"
    }
   ],
   "source": [
    "1%26\n"
   ]
  },
  {
   "cell_type": "code",
   "execution_count": 7,
   "id": "db053373",
   "metadata": {},
   "outputs": [
    {
     "data": {
      "text/plain": [
       "2"
      ]
     },
     "execution_count": 7,
     "metadata": {},
     "output_type": "execute_result"
    }
   ],
   "source": [
    "2%26"
   ]
  },
  {
   "cell_type": "code",
   "execution_count": 8,
   "id": "a470990a",
   "metadata": {},
   "outputs": [
    {
     "data": {
      "text/plain": [
       "2"
      ]
     },
     "execution_count": 8,
     "metadata": {},
     "output_type": "execute_result"
    }
   ],
   "source": [
    "28%26\n"
   ]
  },
  {
   "cell_type": "code",
   "execution_count": 9,
   "id": "034a2a82",
   "metadata": {},
   "outputs": [
    {
     "ename": "NameError",
     "evalue": "name 'b' is not defined",
     "output_type": "error",
     "traceback": [
      "\u001b[1;31m---------------------------------------------------------------------------\u001b[0m",
      "\u001b[1;31mNameError\u001b[0m                                 Traceback (most recent call last)",
      "Cell \u001b[1;32mIn[9], line 1\u001b[0m\n\u001b[1;32m----> 1\u001b[0m \u001b[38;5;28mord\u001b[39m(\u001b[43mb\u001b[49m)\n",
      "\u001b[1;31mNameError\u001b[0m: name 'b' is not defined"
     ]
    }
   ],
   "source": [
    "ord(b)"
   ]
  },
  {
   "cell_type": "code",
   "execution_count": 10,
   "id": "9258b323",
   "metadata": {},
   "outputs": [
    {
     "data": {
      "text/plain": [
       "98"
      ]
     },
     "execution_count": 10,
     "metadata": {},
     "output_type": "execute_result"
    }
   ],
   "source": [
    "ord('b')\n"
   ]
  },
  {
   "cell_type": "code",
   "execution_count": 11,
   "id": "114e10e2",
   "metadata": {},
   "outputs": [
    {
     "data": {
      "text/plain": [
       "97"
      ]
     },
     "execution_count": 11,
     "metadata": {},
     "output_type": "execute_result"
    }
   ],
   "source": [
    "ord('a')"
   ]
  },
  {
   "cell_type": "code",
   "execution_count": 12,
   "id": "73399487",
   "metadata": {},
   "outputs": [
    {
     "data": {
      "text/plain": [
       "1"
      ]
     },
     "execution_count": 12,
     "metadata": {},
     "output_type": "execute_result"
    }
   ],
   "source": [
    "ord('b') - ord('a')"
   ]
  },
  {
   "cell_type": "code",
   "execution_count": 13,
   "id": "2bb300e8",
   "metadata": {},
   "outputs": [
    {
     "data": {
      "text/plain": [
       "1"
      ]
     },
     "execution_count": 13,
     "metadata": {},
     "output_type": "execute_result"
    }
   ],
   "source": [
    "1%26"
   ]
  },
  {
   "cell_type": "code",
   "execution_count": 14,
   "id": "e5c93b4f",
   "metadata": {},
   "outputs": [
    {
     "data": {
      "text/plain": [
       "103"
      ]
     },
     "execution_count": 14,
     "metadata": {},
     "output_type": "execute_result"
    }
   ],
   "source": [
    "(ord('b') - ord('a') + 5) % 26 + ord('a')"
   ]
  },
  {
   "cell_type": "code",
   "execution_count": 15,
   "id": "23510805",
   "metadata": {},
   "outputs": [
    {
     "data": {
      "text/plain": [
       "98"
      ]
     },
     "execution_count": 15,
     "metadata": {},
     "output_type": "execute_result"
    }
   ],
   "source": [
    "ord('b')"
   ]
  },
  {
   "cell_type": "code",
   "execution_count": 16,
   "id": "17e96fc1",
   "metadata": {},
   "outputs": [
    {
     "data": {
      "text/plain": [
       "1"
      ]
     },
     "execution_count": 16,
     "metadata": {},
     "output_type": "execute_result"
    }
   ],
   "source": [
    "98 - ord('a')"
   ]
  },
  {
   "cell_type": "code",
   "execution_count": 17,
   "id": "9af5a5db",
   "metadata": {},
   "outputs": [
    {
     "data": {
      "text/plain": [
       "1"
      ]
     },
     "execution_count": 17,
     "metadata": {},
     "output_type": "execute_result"
    }
   ],
   "source": [
    "1%26"
   ]
  },
  {
   "cell_type": "code",
   "execution_count": 18,
   "id": "84157b14",
   "metadata": {},
   "outputs": [
    {
     "data": {
      "text/plain": [
       "98"
      ]
     },
     "execution_count": 18,
     "metadata": {},
     "output_type": "execute_result"
    }
   ],
   "source": [
    "1 + ord('a')"
   ]
  },
  {
   "cell_type": "code",
   "execution_count": 19,
   "id": "9e15fe77",
   "metadata": {},
   "outputs": [
    {
     "data": {
      "text/plain": [
       "'g'"
      ]
     },
     "execution_count": 19,
     "metadata": {},
     "output_type": "execute_result"
    }
   ],
   "source": [
    "chr(103)"
   ]
  },
  {
   "cell_type": "code",
   "execution_count": 20,
   "id": "47b23844",
   "metadata": {},
   "outputs": [
    {
     "data": {
      "text/plain": [
       "101"
      ]
     },
     "execution_count": 20,
     "metadata": {},
     "output_type": "execute_result"
    }
   ],
   "source": [
    "(ord('z') - ord('a') + 5) % 26 + ord('a')\n"
   ]
  },
  {
   "cell_type": "code",
   "execution_count": 21,
   "id": "682a7a4e",
   "metadata": {},
   "outputs": [
    {
     "data": {
      "text/plain": [
       "0"
      ]
     },
     "execution_count": 21,
     "metadata": {},
     "output_type": "execute_result"
    }
   ],
   "source": [
    "0%26"
   ]
  },
  {
   "cell_type": "code",
   "execution_count": 22,
   "id": "e1f68ec1",
   "metadata": {},
   "outputs": [
    {
     "data": {
      "text/plain": [
       "97"
      ]
     },
     "execution_count": 22,
     "metadata": {},
     "output_type": "execute_result"
    }
   ],
   "source": [
    "ord('a')"
   ]
  },
  {
   "cell_type": "code",
   "execution_count": 23,
   "id": "f2e1fad9",
   "metadata": {},
   "outputs": [
    {
     "data": {
      "text/plain": [
       "102"
      ]
     },
     "execution_count": 23,
     "metadata": {},
     "output_type": "execute_result"
    }
   ],
   "source": [
    "97+5"
   ]
  },
  {
   "cell_type": "code",
   "execution_count": 24,
   "id": "54c656eb",
   "metadata": {},
   "outputs": [
    {
     "data": {
      "text/plain": [
       "'f'"
      ]
     },
     "execution_count": 24,
     "metadata": {},
     "output_type": "execute_result"
    }
   ],
   "source": [
    "chr(102)"
   ]
  },
  {
   "cell_type": "code",
   "execution_count": null,
   "id": "2dac1318",
   "metadata": {},
   "outputs": [],
   "source": []
  }
 ],
 "metadata": {
  "kernelspec": {
   "display_name": "Python 3 (ipykernel)",
   "language": "python",
   "name": "python3"
  },
  "language_info": {
   "codemirror_mode": {
    "name": "ipython",
    "version": 3
   },
   "file_extension": ".py",
   "mimetype": "text/x-python",
   "name": "python",
   "nbconvert_exporter": "python",
   "pygments_lexer": "ipython3",
   "version": "3.11.4"
  }
 },
 "nbformat": 4,
 "nbformat_minor": 5
}
